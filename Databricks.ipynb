{
 "cells": [
  {
   "cell_type": "code",
   "execution_count": 0,
   "metadata": {
    "application/vnd.databricks.v1+cell": {
     "cellMetadata": {
      "byteLimit": 2048000,
      "rowLimit": 10000
     },
     "inputWidgets": {},
     "nuid": "3e5d38e8-5814-433c-a269-4a5b58083164",
     "showTitle": false,
     "tableResultSettingsMap": {},
     "title": ""
    }
   },
   "outputs": [
    {
     "output_type": "stream",
     "name": "stdout",
     "output_type": "stream",
     "text": [
      "2260701\n+--------+---------+---------+-----------+---------------+----------+--------+-----------+-----+---------+--------------------+----------+--------------+----------+-------------------+--------+-----------+----------+--------------------+----+------------------+------------------+--------+----------+-----+-----------+----------------+--------------+---------------+--------------+----------------------+----------------------+--------+-------+---------+----------+---------+-------------------+---------+-------------+------------------+---------------+---------------+-------------+------------------+----------+-----------------------+------------+---------------+------------+------------------+--------------------+-------------------+--------------------------+---------------------------+-----------+----------------+----------------+---------+-------------------------+--------------+------------+-----------+-----------+-----------+-----------+-----------+------------------+------------+-------+-----------+-----------+----------+--------+----------------+------+-----------+------------+--------------------+-----------+--------------+-------+------------------------+-----------+------------------+--------------------+---------------------+--------------+--------+--------------------+------------------------+---------------------+------------------------------+---------------------+--------------+---------------+-----------+---------+---------+-------------+-------------+-------------------+--------+----------------+------------+------------------+------------------+--------------+----------------+--------------------+---------+---------------+-----------------+--------------+--------------------------+---------------+----------------------+-----------------------+------------------------+----------------------+----------------+----------------+------------------+-------------------+---------------------+--------------------------------+----------------------------------+-----------------------------------+-------------+-------------+---------------+---------------+-------------+---------------+-------------------+-----------------+-----------------------+---------------+------------+--------------------+------------------------------------------+------------------------------+----------------------------+-------------------+--------------------+-------------------------+-----------------+---------------+-----------------+---------------------+---------------+\n|      id|member_id|loan_amnt|funded_amnt|funded_amnt_inv|      term|int_rate|installment|grade|sub_grade|           emp_title|emp_length|home_ownership|annual_inc|verification_status| issue_d|loan_status|pymnt_plan|                 url|desc|           purpose|             title|zip_code|addr_state|  dti|delinq_2yrs|earliest_cr_line|fico_range_low|fico_range_high|inq_last_6mths|mths_since_last_delinq|mths_since_last_record|open_acc|pub_rec|revol_bal|revol_util|total_acc|initial_list_status|out_prncp|out_prncp_inv|       total_pymnt|total_pymnt_inv|total_rec_prncp|total_rec_int|total_rec_late_fee|recoveries|collection_recovery_fee|last_pymnt_d|last_pymnt_amnt|next_pymnt_d|last_credit_pull_d|last_fico_range_high|last_fico_range_low|collections_12_mths_ex_med|mths_since_last_major_derog|policy_code|application_type|annual_inc_joint|dti_joint|verification_status_joint|acc_now_delinq|tot_coll_amt|tot_cur_bal|open_acc_6m|open_act_il|open_il_12m|open_il_24m|mths_since_rcnt_il|total_bal_il|il_util|open_rv_12m|open_rv_24m|max_bal_bc|all_util|total_rev_hi_lim|inq_fi|total_cu_tl|inq_last_12m|acc_open_past_24mths|avg_cur_bal|bc_open_to_buy|bc_util|chargeoff_within_12_mths|delinq_amnt|mo_sin_old_il_acct|mo_sin_old_rev_tl_op|mo_sin_rcnt_rev_tl_op|mo_sin_rcnt_tl|mort_acc|mths_since_recent_bc|mths_since_recent_bc_dlq|mths_since_recent_inq|mths_since_recent_revol_delinq|num_accts_ever_120_pd|num_actv_bc_tl|num_actv_rev_tl|num_bc_sats|num_bc_tl|num_il_tl|num_op_rev_tl|num_rev_accts|num_rev_tl_bal_gt_0|num_sats|num_tl_120dpd_2m|num_tl_30dpd|num_tl_90g_dpd_24m|num_tl_op_past_12m|pct_tl_nvr_dlq|percent_bc_gt_75|pub_rec_bankruptcies|tax_liens|tot_hi_cred_lim|total_bal_ex_mort|total_bc_limit|total_il_high_credit_limit|revol_bal_joint|sec_app_fico_range_low|sec_app_fico_range_high|sec_app_earliest_cr_line|sec_app_inq_last_6mths|sec_app_mort_acc|sec_app_open_acc|sec_app_revol_util|sec_app_open_act_il|sec_app_num_rev_accts|sec_app_chargeoff_within_12_mths|sec_app_collections_12_mths_ex_med|sec_app_mths_since_last_major_derog|hardship_flag|hardship_type|hardship_reason|hardship_status|deferral_term|hardship_amount|hardship_start_date|hardship_end_date|payment_plan_start_date|hardship_length|hardship_dpd|hardship_loan_status|orig_projected_additional_accrued_interest|hardship_payoff_balance_amount|hardship_last_payment_amount|disbursement_method|debt_settlement_flag|debt_settlement_flag_date|settlement_status|settlement_date|settlement_amount|settlement_percentage|settlement_term|\n+--------+---------+---------+-----------+---------------+----------+--------+-----------+-----+---------+--------------------+----------+--------------+----------+-------------------+--------+-----------+----------+--------------------+----+------------------+------------------+--------+----------+-----+-----------+----------------+--------------+---------------+--------------+----------------------+----------------------+--------+-------+---------+----------+---------+-------------------+---------+-------------+------------------+---------------+---------------+-------------+------------------+----------+-----------------------+------------+---------------+------------+------------------+--------------------+-------------------+--------------------------+---------------------------+-----------+----------------+----------------+---------+-------------------------+--------------+------------+-----------+-----------+-----------+-----------+-----------+------------------+------------+-------+-----------+-----------+----------+--------+----------------+------+-----------+------------+--------------------+-----------+--------------+-------+------------------------+-----------+------------------+--------------------+---------------------+--------------+--------+--------------------+------------------------+---------------------+------------------------------+---------------------+--------------+---------------+-----------+---------+---------+-------------+-------------+-------------------+--------+----------------+------------+------------------+------------------+--------------+----------------+--------------------+---------+---------------+-----------------+--------------+--------------------------+---------------+----------------------+-----------------------+------------------------+----------------------+----------------+----------------+------------------+-------------------+---------------------+--------------------------------+----------------------------------+-----------------------------------+-------------+-------------+---------------+---------------+-------------+---------------+-------------------+-----------------+-----------------------+---------------+------------+--------------------+------------------------------------------+------------------------------+----------------------------+-------------------+--------------------+-------------------------+-----------------+---------------+-----------------+---------------------+---------------+\n|68407277|     NULL|   3600.0|     3600.0|         3600.0| 36 months|   13.99|     123.03|    C|       C4|             leadman| 10+ years|      MORTGAGE|   55000.0|       Not Verified|Dec-2015| Fully Paid|         n|https://lendingcl...|NULL|debt_consolidation|Debt consolidation|   190xx|        PA| 5.91|        0.0|        Aug-2003|         675.0|          679.0|           1.0|                  30.0|                  NULL|     7.0|    0.0|   2765.0|      29.7|     13.0|                  w|      0.0|          0.0| 4421.723916800001|        4421.72|         3600.0|       821.72|               0.0|       0.0|                    0.0|    Jan-2019|         122.67|        NULL|          Mar-2019|               564.0|              560.0|                       0.0|                       30.0|        1.0|      Individual|            NULL|     NULL|                     NULL|           0.0|       722.0|   144904.0|        2.0|        2.0|        0.0|        1.0|              21.0|      4981.0|   36.0|        3.0|        3.0|     722.0|    34.0|          9300.0|   3.0|        1.0|         4.0|                 4.0|    20701.0|        1506.0|   37.2|                     0.0|        0.0|             148.0|               128.0|                  3.0|           3.0|     1.0|                 4.0|                    69.0|                  4.0|                          69.0|                  2.0|           2.0|            4.0|        2.0|      5.0|      3.0|          4.0|          9.0|                4.0|     7.0|             0.0|         0.0|               0.0|               3.0|          76.9|             0.0|                 0.0|      0.0|       178050.0|           7746.0|        2400.0|                   13734.0|           NULL|                  NULL|                   NULL|                    NULL|                  NULL|            NULL|            NULL|              NULL|               NULL|                 NULL|                            NULL|                              NULL|                               NULL|            N|         NULL|           NULL|           NULL|         NULL|           NULL|               NULL|             NULL|                   NULL|           NULL|        NULL|                NULL|                                      NULL|                          NULL|                        NULL|               Cash|                   N|                     NULL|             NULL|           NULL|             NULL|                 NULL|           NULL|\n|68355089|     NULL|  24700.0|    24700.0|        24700.0| 36 months|   11.99|     820.28|    C|       C1|            Engineer| 10+ years|      MORTGAGE|   65000.0|       Not Verified|Dec-2015| Fully Paid|         n|https://lendingcl...|NULL|    small_business|          Business|   577xx|        SD|16.06|        1.0|        Dec-1999|         715.0|          719.0|           4.0|                   6.0|                  NULL|    22.0|    0.0|  21470.0|      19.2|     38.0|                  w|      0.0|          0.0|          25679.66|       25679.66|        24700.0|       979.66|               0.0|       0.0|                    0.0|    Jun-2016|         926.35|        NULL|          Mar-2019|               699.0|              695.0|                       0.0|                       NULL|        1.0|      Individual|            NULL|     NULL|                     NULL|           0.0|         0.0|   204396.0|        1.0|        1.0|        0.0|        1.0|              19.0|     18005.0|   73.0|        2.0|        3.0|    6472.0|    29.0|        111800.0|   0.0|        0.0|         6.0|                 4.0|     9733.0|       57830.0|   27.1|                     0.0|        0.0|             113.0|               192.0|                  2.0|           2.0|     4.0|                 2.0|                    NULL|                  0.0|                           6.0|                  0.0|           5.0|            5.0|       13.0|     17.0|      6.0|         20.0|         27.0|                5.0|    22.0|             0.0|         0.0|               0.0|               2.0|          97.4|             7.7|                 0.0|      0.0|       314017.0|          39475.0|       79300.0|                   24667.0|           NULL|                  NULL|                   NULL|                    NULL|                  NULL|            NULL|            NULL|              NULL|               NULL|                 NULL|                            NULL|                              NULL|                               NULL|            N|         NULL|           NULL|           NULL|         NULL|           NULL|               NULL|             NULL|                   NULL|           NULL|        NULL|                NULL|                                      NULL|                          NULL|                        NULL|               Cash|                   N|                     NULL|             NULL|           NULL|             NULL|                 NULL|           NULL|\n|68341763|     NULL|  20000.0|    20000.0|        20000.0| 60 months|   10.78|     432.66|    B|       B4|        truck driver| 10+ years|      MORTGAGE|   63000.0|       Not Verified|Dec-2015| Fully Paid|         n|https://lendingcl...|NULL|  home_improvement|              NULL|   605xx|        IL|10.78|        0.0|        Aug-2000|         695.0|          699.0|           0.0|                  NULL|                  NULL|     6.0|    0.0|   7869.0|      56.2|     18.0|                  w|      0.0|          0.0|22705.924293878397|       22705.92|        20000.0|      2705.92|               0.0|       0.0|                    0.0|    Jun-2017|        15813.3|        NULL|          Mar-2019|               704.0|              700.0|                       0.0|                       NULL|        1.0|       Joint App|         71000.0|    13.85|             Not Verified|           0.0|         0.0|   189699.0|        0.0|        1.0|        0.0|        4.0|              19.0|     10827.0|   73.0|        0.0|        2.0|    2081.0|    65.0|         14000.0|   2.0|        5.0|         1.0|                 6.0|    31617.0|        2737.0|   55.9|                     0.0|        0.0|             125.0|               184.0|                 14.0|          14.0|     5.0|               101.0|                    NULL|                 10.0|                          NULL|                  0.0|           2.0|            3.0|        2.0|      4.0|      6.0|          4.0|          7.0|                3.0|     6.0|             0.0|         0.0|               0.0|               0.0|         100.0|            50.0|                 0.0|      0.0|       218418.0|          18696.0|        6200.0|                   14877.0|           NULL|                  NULL|                   NULL|                    NULL|                  NULL|            NULL|            NULL|              NULL|               NULL|                 NULL|                            NULL|                              NULL|                               NULL|            N|         NULL|           NULL|           NULL|         NULL|           NULL|               NULL|             NULL|                   NULL|           NULL|        NULL|                NULL|                                      NULL|                          NULL|                        NULL|               Cash|                   N|                     NULL|             NULL|           NULL|             NULL|                 NULL|           NULL|\n|66310712|     NULL|  35000.0|    35000.0|        35000.0| 60 months|   14.85|      829.9|    C|       C5|Information Syste...| 10+ years|      MORTGAGE|  110000.0|    Source Verified|Dec-2015|    Current|         n|https://lendingcl...|NULL|debt_consolidation|Debt consolidation|   076xx|        NJ|17.06|        0.0|        Sep-2008|         785.0|          789.0|           0.0|                  NULL|                  NULL|    13.0|    0.0|   7802.0|      11.6|     17.0|                  w| 15897.65|     15897.65|          31464.01|       31464.01|       19102.35|     12361.66|               0.0|       0.0|                    0.0|    Feb-2019|          829.9|    Apr-2019|          Mar-2019|               679.0|              675.0|                       0.0|                       NULL|        1.0|      Individual|            NULL|     NULL|                     NULL|           0.0|         0.0|   301500.0|        1.0|        1.0|        0.0|        1.0|              23.0|     12609.0|   70.0|        1.0|        1.0|    6987.0|    45.0|         67300.0|   0.0|        1.0|         0.0|                 2.0|    23192.0|       54962.0|   12.1|                     0.0|        0.0|              36.0|                87.0|                  2.0|           2.0|     1.0|                 2.0|                    NULL|                 NULL|                          NULL|                  0.0|           4.0|            5.0|        8.0|     10.0|      2.0|         10.0|         13.0|                5.0|    13.0|             0.0|         0.0|               0.0|               1.0|         100.0|             0.0|                 0.0|      0.0|       381215.0|          52226.0|       62500.0|                   18000.0|           NULL|                  NULL|                   NULL|                    NULL|                  NULL|            NULL|            NULL|              NULL|               NULL|                 NULL|                            NULL|                              NULL|                               NULL|            N|         NULL|           NULL|           NULL|         NULL|           NULL|               NULL|             NULL|                   NULL|           NULL|        NULL|                NULL|                                      NULL|                          NULL|                        NULL|               Cash|                   N|                     NULL|             NULL|           NULL|             NULL|                 NULL|           NULL|\n|68476807|     NULL|  10400.0|    10400.0|        10400.0| 60 months|   22.45|     289.91|    F|       F1| Contract Specialist|   3 years|      MORTGAGE|  104433.0|    Source Verified|Dec-2015| Fully Paid|         n|https://lendingcl...|NULL|    major_purchase|    Major purchase|   174xx|        PA|25.37|        1.0|        Jun-1998|         695.0|          699.0|           3.0|                  12.0|                  NULL|    12.0|    0.0|  21929.0|      64.5|     35.0|                  w|      0.0|          0.0|           11740.5|        11740.5|        10400.0|       1340.5|               0.0|       0.0|                    0.0|    Jul-2016|       10128.96|        NULL|          Mar-2018|               704.0|              700.0|                       0.0|                       NULL|        1.0|      Individual|            NULL|     NULL|                     NULL|           0.0|         0.0|   331730.0|        1.0|        3.0|        0.0|        3.0|              14.0|     73839.0|   84.0|        4.0|        7.0|    9702.0|    78.0|         34000.0|   2.0|        1.0|         3.0|                10.0|    27644.0|        4567.0|   77.5|                     0.0|        0.0|             128.0|               210.0|                  4.0|           4.0|     6.0|                 4.0|                    12.0|                  1.0|                          12.0|                  0.0|           4.0|            6.0|        5.0|      9.0|     10.0|          7.0|         19.0|                6.0|    12.0|             0.0|         0.0|               0.0|               4.0|          96.6|            60.0|                 0.0|      0.0|       439570.0|          95768.0|       20300.0|                   88097.0|           NULL|                  NULL|                   NULL|                    NULL|                  NULL|            NULL|            NULL|              NULL|               NULL|                 NULL|                            NULL|                              NULL|                               NULL|            N|         NULL|           NULL|           NULL|         NULL|           NULL|               NULL|             NULL|                   NULL|           NULL|        NULL|                NULL|                                      NULL|                          NULL|                        NULL|               Cash|                   N|                     NULL|             NULL|           NULL|             NULL|                 NULL|           NULL|\n+--------+---------+---------+-----------+---------------+----------+--------+-----------+-----+---------+--------------------+----------+--------------+----------+-------------------+--------+-----------+----------+--------------------+----+------------------+------------------+--------+----------+-----+-----------+----------------+--------------+---------------+--------------+----------------------+----------------------+--------+-------+---------+----------+---------+-------------------+---------+-------------+------------------+---------------+---------------+-------------+------------------+----------+-----------------------+------------+---------------+------------+------------------+--------------------+-------------------+--------------------------+---------------------------+-----------+----------------+----------------+---------+-------------------------+--------------+------------+-----------+-----------+-----------+-----------+-----------+------------------+------------+-------+-----------+-----------+----------+--------+----------------+------+-----------+------------+--------------------+-----------+--------------+-------+------------------------+-----------+------------------+--------------------+---------------------+--------------+--------+--------------------+------------------------+---------------------+------------------------------+---------------------+--------------+---------------+-----------+---------+---------+-------------+-------------+-------------------+--------+----------------+------------+------------------+------------------+--------------+----------------+--------------------+---------+---------------+-----------------+--------------+--------------------------+---------------+----------------------+-----------------------+------------------------+----------------------+----------------+----------------+------------------+-------------------+---------------------+--------------------------------+----------------------------------+-----------------------------------+-------------+-------------+---------------+---------------+-------------+---------------+-------------------+-----------------+-----------------------+---------------+------------+--------------------+------------------------------------------+------------------------------+----------------------------+-------------------+--------------------+-------------------------+-----------------+---------------+-----------------+---------------------+---------------+\nonly showing top 5 rows\nroot\n |-- id: string (nullable = true)\n |-- member_id: string (nullable = true)\n |-- loan_amnt: double (nullable = true)\n |-- funded_amnt: double (nullable = true)\n |-- funded_amnt_inv: double (nullable = true)\n |-- term: string (nullable = true)\n |-- int_rate: double (nullable = true)\n |-- installment: double (nullable = true)\n |-- grade: string (nullable = true)\n |-- sub_grade: string (nullable = true)\n |-- emp_title: string (nullable = true)\n |-- emp_length: string (nullable = true)\n |-- home_ownership: string (nullable = true)\n |-- annual_inc: string (nullable = true)\n |-- verification_status: string (nullable = true)\n |-- issue_d: string (nullable = true)\n |-- loan_status: string (nullable = true)\n |-- pymnt_plan: string (nullable = true)\n |-- url: string (nullable = true)\n |-- desc: string (nullable = true)\n |-- purpose: string (nullable = true)\n |-- title: string (nullable = true)\n |-- zip_code: string (nullable = true)\n |-- addr_state: string (nullable = true)\n |-- dti: string (nullable = true)\n |-- delinq_2yrs: string (nullable = true)\n |-- earliest_cr_line: string (nullable = true)\n |-- fico_range_low: string (nullable = true)\n |-- fico_range_high: string (nullable = true)\n |-- inq_last_6mths: string (nullable = true)\n |-- mths_since_last_delinq: string (nullable = true)\n |-- mths_since_last_record: string (nullable = true)\n |-- open_acc: string (nullable = true)\n |-- pub_rec: string (nullable = true)\n |-- revol_bal: string (nullable = true)\n |-- revol_util: string (nullable = true)\n |-- total_acc: string (nullable = true)\n |-- initial_list_status: string (nullable = true)\n |-- out_prncp: string (nullable = true)\n |-- out_prncp_inv: string (nullable = true)\n |-- total_pymnt: string (nullable = true)\n |-- total_pymnt_inv: string (nullable = true)\n |-- total_rec_prncp: string (nullable = true)\n |-- total_rec_int: string (nullable = true)\n |-- total_rec_late_fee: string (nullable = true)\n |-- recoveries: string (nullable = true)\n |-- collection_recovery_fee: string (nullable = true)\n |-- last_pymnt_d: string (nullable = true)\n |-- last_pymnt_amnt: string (nullable = true)\n |-- next_pymnt_d: string (nullable = true)\n |-- last_credit_pull_d: string (nullable = true)\n |-- last_fico_range_high: string (nullable = true)\n |-- last_fico_range_low: string (nullable = true)\n |-- collections_12_mths_ex_med: string (nullable = true)\n |-- mths_since_last_major_derog: string (nullable = true)\n |-- policy_code: string (nullable = true)\n |-- application_type: string (nullable = true)\n |-- annual_inc_joint: string (nullable = true)\n |-- dti_joint: string (nullable = true)\n |-- verification_status_joint: string (nullable = true)\n |-- acc_now_delinq: string (nullable = true)\n |-- tot_coll_amt: string (nullable = true)\n |-- tot_cur_bal: string (nullable = true)\n |-- open_acc_6m: string (nullable = true)\n |-- open_act_il: string (nullable = true)\n |-- open_il_12m: string (nullable = true)\n |-- open_il_24m: string (nullable = true)\n |-- mths_since_rcnt_il: string (nullable = true)\n |-- total_bal_il: string (nullable = true)\n |-- il_util: string (nullable = true)\n |-- open_rv_12m: string (nullable = true)\n |-- open_rv_24m: string (nullable = true)\n |-- max_bal_bc: string (nullable = true)\n |-- all_util: string (nullable = true)\n |-- total_rev_hi_lim: string (nullable = true)\n |-- inq_fi: string (nullable = true)\n |-- total_cu_tl: string (nullable = true)\n |-- inq_last_12m: double (nullable = true)\n |-- acc_open_past_24mths: double (nullable = true)\n |-- avg_cur_bal: string (nullable = true)\n |-- bc_open_to_buy: double (nullable = true)\n |-- bc_util: string (nullable = true)\n |-- chargeoff_within_12_mths: double (nullable = true)\n |-- delinq_amnt: double (nullable = true)\n |-- mo_sin_old_il_acct: double (nullable = true)\n |-- mo_sin_old_rev_tl_op: double (nullable = true)\n |-- mo_sin_rcnt_rev_tl_op: double (nullable = true)\n |-- mo_sin_rcnt_tl: double (nullable = true)\n |-- mort_acc: double (nullable = true)\n |-- mths_since_recent_bc: double (nullable = true)\n |-- mths_since_recent_bc_dlq: double (nullable = true)\n |-- mths_since_recent_inq: double (nullable = true)\n |-- mths_since_recent_revol_delinq: double (nullable = true)\n |-- num_accts_ever_120_pd: double (nullable = true)\n |-- num_actv_bc_tl: double (nullable = true)\n |-- num_actv_rev_tl: double (nullable = true)\n |-- num_bc_sats: double (nullable = true)\n |-- num_bc_tl: double (nullable = true)\n |-- num_il_tl: double (nullable = true)\n |-- num_op_rev_tl: double (nullable = true)\n |-- num_rev_accts: double (nullable = true)\n |-- num_rev_tl_bal_gt_0: double (nullable = true)\n |-- num_sats: double (nullable = true)\n |-- num_tl_120dpd_2m: double (nullable = true)\n |-- num_tl_30dpd: double (nullable = true)\n |-- num_tl_90g_dpd_24m: double (nullable = true)\n |-- num_tl_op_past_12m: double (nullable = true)\n |-- pct_tl_nvr_dlq: double (nullable = true)\n |-- percent_bc_gt_75: double (nullable = true)\n |-- pub_rec_bankruptcies: double (nullable = true)\n |-- tax_liens: double (nullable = true)\n |-- tot_hi_cred_lim: double (nullable = true)\n |-- total_bal_ex_mort: double (nullable = true)\n |-- total_bc_limit: double (nullable = true)\n |-- total_il_high_credit_limit: double (nullable = true)\n |-- revol_bal_joint: double (nullable = true)\n |-- sec_app_fico_range_low: double (nullable = true)\n |-- sec_app_fico_range_high: double (nullable = true)\n |-- sec_app_earliest_cr_line: string (nullable = true)\n |-- sec_app_inq_last_6mths: double (nullable = true)\n |-- sec_app_mort_acc: double (nullable = true)\n |-- sec_app_open_acc: double (nullable = true)\n |-- sec_app_revol_util: double (nullable = true)\n |-- sec_app_open_act_il: double (nullable = true)\n |-- sec_app_num_rev_accts: double (nullable = true)\n |-- sec_app_chargeoff_within_12_mths: double (nullable = true)\n |-- sec_app_collections_12_mths_ex_med: double (nullable = true)\n |-- sec_app_mths_since_last_major_derog: double (nullable = true)\n |-- hardship_flag: string (nullable = true)\n |-- hardship_type: string (nullable = true)\n |-- hardship_reason: string (nullable = true)\n |-- hardship_status: string (nullable = true)\n |-- deferral_term: string (nullable = true)\n |-- hardship_amount: string (nullable = true)\n |-- hardship_start_date: string (nullable = true)\n |-- hardship_end_date: string (nullable = true)\n |-- payment_plan_start_date: string (nullable = true)\n |-- hardship_length: string (nullable = true)\n |-- hardship_dpd: string (nullable = true)\n |-- hardship_loan_status: string (nullable = true)\n |-- orig_projected_additional_accrued_interest: string (nullable = true)\n |-- hardship_payoff_balance_amount: string (nullable = true)\n |-- hardship_last_payment_amount: string (nullable = true)\n |-- disbursement_method: string (nullable = true)\n |-- debt_settlement_flag: string (nullable = true)\n |-- debt_settlement_flag_date: string (nullable = true)\n |-- settlement_status: string (nullable = true)\n |-- settlement_date: string (nullable = true)\n |-- settlement_amount: string (nullable = true)\n |-- settlement_percentage: string (nullable = true)\n |-- settlement_term: string (nullable = true)\n\n"
     ]
    }
   ],
   "source": [
    "file_path = \"dbfs:/Volumes/workspace/data/data/accepted_2007_to_2018Q4.csv.gz\"\n",
    "spark_df = spark.read.csv(\n",
    "    path=file_path, \n",
    "    header=True, \n",
    "    inferSchema=True)\n",
    "    \n",
    "print(spark_df.count())\n",
    "spark_df.show(5)\n",
    "spark_df.printSchema()"
   ]
  },
  {
   "cell_type": "code",
   "execution_count": 0,
   "metadata": {
    "application/vnd.databricks.v1+cell": {
     "cellMetadata": {
      "byteLimit": 2048000,
      "rowLimit": 10000
     },
     "inputWidgets": {},
     "nuid": "f4cf76e6-b119-4132-97c7-9317e1f5400e",
     "showTitle": false,
     "tableResultSettingsMap": {},
     "title": ""
    }
   },
   "outputs": [],
   "source": [
    "JDBC_USER = \"diakiv\"\n",
    "JDBC_PASSWORD = \"bZ7djk35Vwpc.Jh\"\n",
    "JDBC_HOST = \"postgresql-diakiv.alwaysdata.net\"  \n",
    "JDBC_PORT = \"5432\"\n",
    "DB_NAME = \"diakiv_project\"\n",
    "\n",
    "TABLE_NAME = \"rejected_loans_data\"\n",
    "\n",
    "JDBC_URL = f\"jdbc:postgresql://{JDBC_HOST}:{JDBC_PORT}/{DB_NAME}\"\n",
    "JDBC_DRIVER = \"org.postgresql.Driver\""
   ]
  },
  {
   "cell_type": "code",
   "execution_count": 0,
   "metadata": {
    "application/vnd.databricks.v1+cell": {
     "cellMetadata": {
      "byteLimit": 2048000,
      "rowLimit": 10000
     },
     "inputWidgets": {},
     "nuid": "37582129-9b22-4f49-a09d-6dd3d3b96409",
     "showTitle": false,
     "tableResultSettingsMap": {},
     "title": ""
    }
   },
   "outputs": [
    {
     "output_type": "stream",
     "name": "stdout",
     "output_type": "stream",
     "text": [
      "Data successfully read from table 'rejected_loans_data' into Spark DataFrame.\nRecord count: 318370\n+----------------+----------------+--------------------+----------+--------------------+--------+-----+-----------------+-----------+\n|Amount Requested|Application Date|          Loan Title|Risk_Score|Debt-To-Income Ratio|Zip Code|State|Employment Length|Policy Code|\n+----------------+----------------+--------------------+----------+--------------------+--------+-----+-----------------+-----------+\n|          1000.0|      2007-05-26|Wedding Covered b...|     693.0|                 10%|   481xx|   NM|          4 years|        0.0|\n|          1000.0|      2007-05-26|  Consolidating Debt|     703.0|                 10%|   010xx|   MA|         < 1 year|        0.0|\n|         11000.0|      2007-05-27|Want to consolida...|     715.0|                 10%|   212xx|   MD|           1 year|        0.0|\n|          6000.0|      2007-05-27|             waksman|     698.0|              38.64%|   017xx|   MA|         < 1 year|        0.0|\n|          1500.0|      2007-05-27|              mdrigo|     509.0|               9.43%|   209xx|   MD|         < 1 year|        0.0|\n+----------------+----------------+--------------------+----------+--------------------+--------+-----+-----------------+-----------+\nonly showing top 5 rows\nroot\n |-- Amount Requested: double (nullable = true)\n |-- Application Date: string (nullable = true)\n |-- Loan Title: string (nullable = true)\n |-- Risk_Score: double (nullable = true)\n |-- Debt-To-Income Ratio: string (nullable = true)\n |-- Zip Code: string (nullable = true)\n |-- State: string (nullable = true)\n |-- Employment Length: string (nullable = true)\n |-- Policy Code: double (nullable = true)\n\n"
     ]
    }
   ],
   "source": [
    "try:\n",
    "    df_from_postgres = spark.read \\\n",
    "        .format(\"jdbc\") \\\n",
    "        .option(\"url\", JDBC_URL) \\\n",
    "        .option(\"dbtable\", TABLE_NAME) \\\n",
    "        .option(\"user\", JDBC_USER) \\\n",
    "        .option(\"password\", JDBC_PASSWORD) \\\n",
    "        .option(\"driver\", JDBC_DRIVER) \\\n",
    "        .load()\n",
    "\n",
    "    print(f\"Data successfully read from table '{TABLE_NAME}' into Spark DataFrame.\")\n",
    "        \n",
    "\n",
    "    print(f\"Record count: {df_from_postgres.count()}\")\n",
    "    df_from_postgres.show(5)\n",
    "    df_from_postgres.printSchema()\n",
    "\n",
    "except Exception as e:\n",
    "    print(f\"Error while connecting or reading data from PostgreSQL:\")\n",
    "    print(f\"Error details: {e}\")\n",
    "    print(\"Check if the credentials are correct, if your Databricks cluster is running, and if Alwaysdata allows remote connections.\")"
   ]
  },
  {
   "cell_type": "code",
   "execution_count": 0,
   "metadata": {
    "application/vnd.databricks.v1+cell": {
     "cellMetadata": {
      "byteLimit": 2048000,
      "rowLimit": 10000
     },
     "inputWidgets": {},
     "nuid": "ea8d4c3a-5207-4ef3-ae16-b70990de41b0",
     "showTitle": false,
     "tableResultSettingsMap": {},
     "title": ""
    }
   },
   "outputs": [],
   "source": [
    "from pyspark.sql import functions as F\n",
    "from pyspark.sql.types import DoubleType, IntegerType, DateType\n",
    "from pyspark.sql import SparkSession\n",
    "\n",
    "\n",
    "spark = SparkSession.builder.appName(\"GradualTransformation\").getOrCreate()\n",
    "\n",
    "df_accepted = spark_df        \n",
    "df_rejected = df_from_postgres"
   ]
  },
  {
   "cell_type": "code",
   "execution_count": 0,
   "metadata": {
    "application/vnd.databricks.v1+cell": {
     "cellMetadata": {
      "byteLimit": 2048000,
      "rowLimit": 10000
     },
     "inputWidgets": {},
     "nuid": "b336b570-03b9-48f3-bec1-a763a42efaf2",
     "showTitle": false,
     "tableResultSettingsMap": {},
     "title": ""
    }
   },
   "outputs": [],
   "source": [
    "from pyspark.sql import functions as F\n",
    "from pyspark.sql.types import DoubleType, IntegerType\n",
    "\n",
    "month_map = {\n",
    "    'Jan':'01','Feb':'02','Mar':'03','Apr':'04','May':'05','Jun':'06',\n",
    "    'Jul':'07','Aug':'08','Sep':'09','Oct':'10','Nov':'11','Dec':'12'\n",
    "}\n",
    "\n",
    "def convert_mmm_yyyy(col):\n",
    "    expr = col\n",
    "    for m, num in month_map.items():\n",
    "        expr = F.regexp_replace(expr, m, num)\n",
    "    expr = F.concat_ws(\"-\", F.substring(expr, 4, 4), F.substring(expr, 1, 2), F.lit(\"01\"))\n",
    "    return expr\n",
    "\n",
    "df_accepted_temp = df_accepted\n",
    "\n",
    "date_cols = ['issue_d', 'earliest_cr_line', 'last_pymnt_d', 'next_pymnt_d', 'last_credit_pull_d']\n",
    "numeric_cleaned_cols = [\n",
    "    'int_rate', 'dti', 'revol_util', 'annual_inc', 'total_rev_hi_lim',\n",
    "    'tot_hi_cred_lim', 'total_bal_ex_mort', 'total_bc_limit',\n",
    "    'total_il_high_credit_limit'\n",
    "]\n",
    "\n",
    "numeric_check_regex = r'^\\s*-?\\d+(\\.\\d+)?%?\\s*$'\n",
    "regex_cleaner = r'[% ]'\n",
    "\n",
    "for col in numeric_cleaned_cols:\n",
    "    if col in df_accepted_temp.columns:\n",
    "        df_accepted_temp = df_accepted_temp.withColumn(\n",
    "            col,\n",
    "            F.when(\n",
    "                F.col(col).rlike(numeric_check_regex),\n",
    "                F.regexp_replace(F.col(col), regex_cleaner, \"\").cast(DoubleType())\n",
    "            ).otherwise(None)\n",
    "        )\n",
    "\n",
    "for col in date_cols:\n",
    "    if col in df_accepted_temp.columns:\n",
    "        df_accepted_temp = df_accepted_temp.withColumn(col + \"_str\", F.col(col).cast(\"string\"))\n",
    "        df_accepted_temp = df_accepted_temp.withColumn(\n",
    "            col,\n",
    "            F.when(\n",
    "                F.col(col + \"_str\").rlike(r'^[A-Za-z]{3}-\\d{4}$'),\n",
    "                F.to_date(convert_mmm_yyyy(F.col(col + \"_str\")), \"yyyy-MM-dd\")\n",
    "            ).when(\n",
    "                F.col(col + \"_str\").rlike(r'^\\d{4}-\\d{2}-\\d{2}$'),\n",
    "                F.to_date(F.col(col + \"_str\"), \"yyyy-MM-dd\")\n",
    "            ).otherwise(None)\n",
    "        ).drop(col + \"_str\")\n",
    "\n",
    "fico_numeric_regex = r'^\\d+$'\n",
    "df_accepted_temp = df_accepted_temp.withColumn(\n",
    "    'fico_range_low',\n",
    "    F.when(F.col('fico_range_low').rlike(fico_numeric_regex), F.col('fico_range_low').cast(DoubleType())).otherwise(None)\n",
    ")\n",
    "df_accepted_temp = df_accepted_temp.withColumn(\n",
    "    'fico_range_low', F.col('fico_range_low').cast(IntegerType())\n",
    ")\n",
    "\n",
    "df_accepted_temp = df_accepted_temp.withColumn(\n",
    "    'fico_range_high',\n",
    "    F.when(F.col('fico_range_high').rlike(fico_numeric_regex), F.col('fico_range_high').cast(DoubleType())).otherwise(None)\n",
    ")\n",
    "df_accepted_temp = df_accepted_temp.withColumn(\n",
    "    'fico_range_high', F.col('fico_range_high').cast(IntegerType())\n",
    ")\n",
    "\n",
    "if 'emp_length' in df_accepted_temp.columns:\n",
    "    emp_length_check_regex = r'^[<|>|+|\\d\\s]*[years|year]?$'\n",
    "    df_accepted_temp = df_accepted_temp.withColumn(\n",
    "        'emp_length',\n",
    "        F.when(\n",
    "            F.col('emp_length').rlike(emp_length_check_regex),\n",
    "            F.regexp_replace(F.col('emp_length'), r'[<|>|+| years| year]', '').cast(DoubleType())\n",
    "        ).otherwise(None)\n",
    "    )\n",
    "\n",
    "all_numeric_cols = numeric_cleaned_cols + ['fico_range_low', 'fico_range_high', 'emp_length']\n",
    "df_accepted_temp = df_accepted_temp.fillna(0.0, subset=all_numeric_cols)\n",
    "\n",
    "df_accepted_temp = df_accepted_temp.dropDuplicates()\n",
    "df_accepted_clean = df_accepted_temp.drop('id', 'member_id', 'url', 'desc', 'policy_code')\n",
    "\n",
    "\n",
    "df_rejected_temp = df_rejected.selectExpr(\n",
    "    \"`Amount Requested` as loan_amnt\",\n",
    "    \"`Application Date` as issue_d\",\n",
    "    \"`Loan Title` as title\",\n",
    "    \"`Risk_Score` as risk_score\",\n",
    "    \"`Debt-To-Income Ratio` as dti\",\n",
    "    \"`Zip Code` as zip_code\",\n",
    "    \"`State` as addr_state\",\n",
    "    \"`Employment Length` as emp_length\"\n",
    ")\n",
    "\n",
    "df_rejected_temp = df_rejected_temp.withColumn(\"loan_status\", F.lit(\"Rejected\"))\n",
    "\n",
    "df_rejected_temp = df_rejected_temp.withColumn(\"issue_d_str\", F.col(\"issue_d\").cast(\"string\"))\n",
    "df_rejected_temp = df_rejected_temp.withColumn(\n",
    "    \"issue_d\",\n",
    "    F.when(\n",
    "        F.col(\"issue_d_str\").rlike(r'^[A-Za-z]{3}-\\d{4}$'),\n",
    "        F.to_date(convert_mmm_yyyy(F.col(\"issue_d_str\")), \"yyyy-MM-dd\")\n",
    "    ).when(\n",
    "        F.col(\"issue_d_str\").rlike(r'^\\d{4}-\\d{2}-\\d{2}$'),\n",
    "        F.to_date(F.col(\"issue_d_str\"), \"yyyy-MM-dd\")\n",
    "    ).otherwise(None)\n",
    ").drop(\"issue_d_str\")\n",
    "\n",
    "df_rejected_temp = df_rejected_temp.withColumn(\n",
    "    \"dti\",\n",
    "    F.when(\n",
    "        F.col(\"dti\").rlike(numeric_check_regex),\n",
    "        F.regexp_replace(F.col(\"dti\"), r'[%| ]', '').cast(DoubleType())\n",
    "    ).otherwise(None)\n",
    ")\n",
    "\n",
    "df_rejected_temp = df_rejected_temp.withColumn(\n",
    "    \"emp_length\",\n",
    "    F.when(\n",
    "        F.col(\"emp_length\").rlike(r'^[0-9\\.\\-]*$'),\n",
    "        F.regexp_replace(F.col(\"emp_length\"), r'[<|>|+| years| year]', '').cast(DoubleType())\n",
    "    ).otherwise(None)\n",
    ")\n",
    "\n",
    "df_rejected_clean = df_rejected_temp.fillna(0.0, subset=['dti', 'risk_score', 'emp_length'])\n",
    "df_rejected_clean = df_rejected_clean.dropDuplicates()\n",
    "\n",
    "accepted_output_path = \"/Volumes/workspace/data/accepted_volume/accepted_clean_delta\"\n",
    "rejected_output_path = \"/Volumes/workspace/data/accepted_volume/rejected_clean_delta\"\n",
    "\n",
    "df_accepted_clean.write \\\n",
    "    .mode(\"overwrite\") \\\n",
    "    .format(\"delta\") \\\n",
    "    .save(accepted_output_path)\n",
    "\n",
    "df_rejected_clean.write \\\n",
    "    .mode(\"overwrite\") \\\n",
    "    .format(\"delta\") \\\n",
    "    .save(rejected_output_path)\n",
    "\n",
    "union_cols = [\n",
    "    \"loan_amnt\", \"issue_d\", \"title\", \"dti\", \"zip_code\", \"addr_state\",\n",
    "    \"emp_length\", \"loan_status\"\n",
    "]\n",
    "\n",
    "df_accepted_union = df_accepted_clean.select(*union_cols)\n",
    "df_rejected_union = df_rejected_clean.select(*union_cols)\n",
    "\n",
    "df_union = df_accepted_union.unionByName(df_rejected_union)\n",
    "\n",
    "df_agg_ratio = df_union.groupBy(\"addr_state\").pivot(\"loan_status\").agg(F.count(\"*\"))\n",
    "\n",
    "df_agg_ratio = df_agg_ratio.withColumn(\n",
    "    \"acceptance_rate\",\n",
    "    F.col(\"Accepted\") / (F.col(\"Accepted\") + F.col(\"Rejected\"))\n",
    ").orderBy(F.col(\"acceptance_rate\").desc())\n",
    "\n",
    "output_path = \"/Volumes/workspace/data/accepted_volume/loans_combined_delta\"\n",
    "\n",
    "df_union.write \\\n",
    "    .mode(\"overwrite\") \\\n",
    "    .partitionBy(\"addr_state\") \\\n",
    "    .format(\"delta\") \\\n",
    "    .save(output_path)"
   ]
  }
 ],
 "metadata": {
  "application/vnd.databricks.v1+notebook": {
   "computePreferences": null,
   "dashboards": [],
   "environmentMetadata": {
    "base_environment": "",
    "environment_version": "3"
   },
   "inputWidgetPreferences": null,
   "language": "python",
   "notebookMetadata": {
    "mostRecentlyExecutedCommandWithImplicitDF": {
     "commandId": 7175492130304639,
     "dataframes": [
      "_sqldf"
     ]
    },
    "pythonIndentUnit": 4
   },
   "notebookName": "Databricks",
   "widgets": {}
  },
  "language_info": {
   "name": "python"
  }
 },
 "nbformat": 4,
 "nbformat_minor": 0
}
